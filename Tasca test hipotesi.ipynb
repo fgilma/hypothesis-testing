{
 "cells": [
  {
   "cell_type": "markdown",
   "metadata": {},
   "source": [
    "# Nivell 1\n",
    "#### Exercici 1\n",
    "Agafa un conjunt de dades de tema esportiu que t'agradi i selecciona un atribut del conjunt de dades. Calcula el p-valor i digues si rebutja la hipòtesi nul·la agafant un alfa de 5%. "
   ]
  },
  {
   "cell_type": "code",
   "execution_count": 1,
   "metadata": {},
   "outputs": [],
   "source": [
    "import pandas as pd\n",
    "import numpy as np\n",
    "import matplotlib.pyplot as plt\n",
    "import scipy.stats as st\n",
    "%matplotlib inline"
   ]
  },
  {
   "cell_type": "markdown",
   "metadata": {},
   "source": [
    "**Dataset**\n",
    "\n",
    "He elegido un [dataset](https://datahub.io/sports-data/spanish-la-liga#data) de la Liga española de fútbol, temporada 20-21, los datos llegan hasta el 19-04-21"
   ]
  },
  {
   "cell_type": "code",
   "execution_count": 2,
   "metadata": {},
   "outputs": [
    {
     "data": {
      "text/html": [
       "<div>\n",
       "<style scoped>\n",
       "    .dataframe tbody tr th:only-of-type {\n",
       "        vertical-align: middle;\n",
       "    }\n",
       "\n",
       "    .dataframe tbody tr th {\n",
       "        vertical-align: top;\n",
       "    }\n",
       "\n",
       "    .dataframe thead th {\n",
       "        text-align: right;\n",
       "    }\n",
       "</style>\n",
       "<table border=\"1\" class=\"dataframe\">\n",
       "  <thead>\n",
       "    <tr style=\"text-align: right;\">\n",
       "      <th></th>\n",
       "      <th>HomeTeam</th>\n",
       "      <th>AwayTeam</th>\n",
       "      <th>FTHG</th>\n",
       "      <th>FTAG</th>\n",
       "      <th>FTR</th>\n",
       "      <th>HTHG</th>\n",
       "      <th>HTAG</th>\n",
       "      <th>HTR</th>\n",
       "      <th>HS</th>\n",
       "      <th>AS</th>\n",
       "      <th>...</th>\n",
       "      <th>AF</th>\n",
       "      <th>HC</th>\n",
       "      <th>AC</th>\n",
       "      <th>HY</th>\n",
       "      <th>AY</th>\n",
       "      <th>HR</th>\n",
       "      <th>AR</th>\n",
       "      <th>B365H</th>\n",
       "      <th>B365D</th>\n",
       "      <th>B365A</th>\n",
       "    </tr>\n",
       "  </thead>\n",
       "  <tbody>\n",
       "    <tr>\n",
       "      <td>0</td>\n",
       "      <td>Eibar</td>\n",
       "      <td>Celta</td>\n",
       "      <td>0</td>\n",
       "      <td>0</td>\n",
       "      <td>D</td>\n",
       "      <td>0</td>\n",
       "      <td>0</td>\n",
       "      <td>D</td>\n",
       "      <td>8</td>\n",
       "      <td>6</td>\n",
       "      <td>...</td>\n",
       "      <td>13</td>\n",
       "      <td>3</td>\n",
       "      <td>3</td>\n",
       "      <td>4</td>\n",
       "      <td>4</td>\n",
       "      <td>1</td>\n",
       "      <td>0</td>\n",
       "      <td>2.50</td>\n",
       "      <td>3.25</td>\n",
       "      <td>2.90</td>\n",
       "    </tr>\n",
       "    <tr>\n",
       "      <td>1</td>\n",
       "      <td>Granada</td>\n",
       "      <td>Ath Bilbao</td>\n",
       "      <td>2</td>\n",
       "      <td>0</td>\n",
       "      <td>H</td>\n",
       "      <td>0</td>\n",
       "      <td>0</td>\n",
       "      <td>D</td>\n",
       "      <td>4</td>\n",
       "      <td>9</td>\n",
       "      <td>...</td>\n",
       "      <td>10</td>\n",
       "      <td>1</td>\n",
       "      <td>2</td>\n",
       "      <td>3</td>\n",
       "      <td>4</td>\n",
       "      <td>0</td>\n",
       "      <td>0</td>\n",
       "      <td>2.75</td>\n",
       "      <td>3.10</td>\n",
       "      <td>2.75</td>\n",
       "    </tr>\n",
       "    <tr>\n",
       "      <td>2</td>\n",
       "      <td>Cadiz</td>\n",
       "      <td>Osasuna</td>\n",
       "      <td>0</td>\n",
       "      <td>2</td>\n",
       "      <td>A</td>\n",
       "      <td>0</td>\n",
       "      <td>1</td>\n",
       "      <td>A</td>\n",
       "      <td>12</td>\n",
       "      <td>6</td>\n",
       "      <td>...</td>\n",
       "      <td>21</td>\n",
       "      <td>6</td>\n",
       "      <td>2</td>\n",
       "      <td>2</td>\n",
       "      <td>2</td>\n",
       "      <td>0</td>\n",
       "      <td>0</td>\n",
       "      <td>2.80</td>\n",
       "      <td>3.00</td>\n",
       "      <td>2.75</td>\n",
       "    </tr>\n",
       "    <tr>\n",
       "      <td>3</td>\n",
       "      <td>Alaves</td>\n",
       "      <td>Betis</td>\n",
       "      <td>0</td>\n",
       "      <td>1</td>\n",
       "      <td>A</td>\n",
       "      <td>0</td>\n",
       "      <td>0</td>\n",
       "      <td>D</td>\n",
       "      <td>7</td>\n",
       "      <td>11</td>\n",
       "      <td>...</td>\n",
       "      <td>17</td>\n",
       "      <td>6</td>\n",
       "      <td>4</td>\n",
       "      <td>3</td>\n",
       "      <td>3</td>\n",
       "      <td>0</td>\n",
       "      <td>0</td>\n",
       "      <td>2.80</td>\n",
       "      <td>3.20</td>\n",
       "      <td>2.60</td>\n",
       "    </tr>\n",
       "    <tr>\n",
       "      <td>4</td>\n",
       "      <td>Valladolid</td>\n",
       "      <td>Sociedad</td>\n",
       "      <td>1</td>\n",
       "      <td>1</td>\n",
       "      <td>D</td>\n",
       "      <td>1</td>\n",
       "      <td>0</td>\n",
       "      <td>H</td>\n",
       "      <td>8</td>\n",
       "      <td>8</td>\n",
       "      <td>...</td>\n",
       "      <td>17</td>\n",
       "      <td>5</td>\n",
       "      <td>3</td>\n",
       "      <td>4</td>\n",
       "      <td>1</td>\n",
       "      <td>0</td>\n",
       "      <td>0</td>\n",
       "      <td>2.80</td>\n",
       "      <td>3.20</td>\n",
       "      <td>2.60</td>\n",
       "    </tr>\n",
       "  </tbody>\n",
       "</table>\n",
       "<p>5 rows × 23 columns</p>\n",
       "</div>"
      ],
      "text/plain": [
       "     HomeTeam    AwayTeam  FTHG  FTAG FTR  HTHG  HTAG HTR  HS  AS  ...  AF  \\\n",
       "0       Eibar       Celta     0     0   D     0     0   D   8   6  ...  13   \n",
       "1     Granada  Ath Bilbao     2     0   H     0     0   D   4   9  ...  10   \n",
       "2       Cadiz     Osasuna     0     2   A     0     1   A  12   6  ...  21   \n",
       "3      Alaves       Betis     0     1   A     0     0   D   7  11  ...  17   \n",
       "4  Valladolid    Sociedad     1     1   D     1     0   H   8   8  ...  17   \n",
       "\n",
       "   HC  AC  HY  AY  HR  AR  B365H  B365D  B365A  \n",
       "0   3   3   4   4   1   0   2.50   3.25   2.90  \n",
       "1   1   2   3   4   0   0   2.75   3.10   2.75  \n",
       "2   6   2   2   2   0   0   2.80   3.00   2.75  \n",
       "3   6   4   3   3   0   0   2.80   3.20   2.60  \n",
       "4   5   3   4   1   0   0   2.80   3.20   2.60  \n",
       "\n",
       "[5 rows x 23 columns]"
      ]
     },
     "execution_count": 2,
     "metadata": {},
     "output_type": "execute_result"
    }
   ],
   "source": [
    "#Leemos dataset\n",
    "df=pd.read_csv('Desktop/DataScience/datasets/liga/SP1new.csv')\n",
    "df=df.iloc[:,3:26]\n",
    "df.head()"
   ]
  },
  {
   "cell_type": "markdown",
   "metadata": {},
   "source": [
    "**Columnas:**\n",
    "1. Div = League Division\n",
    "2. Date = Match Date (dd/mm/yy)\n",
    "3. Time = Time of match kick off\n",
    "4. HomeTeam = Home Team\n",
    "5. AwayTeam = Away Team\n",
    "6. FTHG = Full Time Home Team Goals\n",
    "7. FTAG = Full Time Away Team Goals\n",
    "8. FTR  = Full Time Result (H=Home Win, D=Draw, A=Away Win)\n",
    "9. HTHG = Half Time Home Team Goals\n",
    "10. HTAG = Half Time Away Team Goals\n",
    "11. HTR = Half Time Result (H=Home Win, D=Draw, A=Away Win)\n",
    "12. HS = Home Team Shots\n",
    "13. AS = Away Team Shots\n",
    "14. HST = Home Team Shots on Target\n",
    "15. AST = Away Team Shots on Target\n",
    "16. HF = Home Team Fouls Committed\n",
    "17. AF = Away Team Fouls Committed\n",
    "18. HC = Home Team Corners\n",
    "19. AC = Away Team Corners\n",
    "20. HY = Home Team Yellow Cards\n",
    "21. AY = Away Team Yellow Cards\n",
    "22. HR = Home Team Red Cards\n",
    "23. AR = Away Team Red Cards\n",
    "24. B365H = Bet365 home win odds\n",
    "25. B365D = Bet365 draw odds\n",
    "26. B365A = Bet365 away win odds"
   ]
  },
  {
   "cell_type": "markdown",
   "metadata": {},
   "source": [
    "**Propuesta:**\n",
    "\n",
    "En los últimos años, el Getafe es acusado por sus rivales de bordear los límites del reglamento y hacer faltas para detener el juego del contrario. Vamos a ver si estadísticamente el número de faltas que comete está en la media de los equipos de la Liga o si realmente estos últimos tienen razones para quejarse.\n",
    "\n",
    "En primer lugar extraemos las faltas que cada equipo comete."
   ]
  },
  {
   "cell_type": "code",
   "execution_count": 3,
   "metadata": {},
   "outputs": [],
   "source": [
    "#extraemos la columna HF, partidos faltas casa\n",
    "partidos_casa=df[['HomeTeam','HF']]\n",
    "partidos_casa.columns=['Equipo','Falta'] #renombramos features"
   ]
  },
  {
   "cell_type": "code",
   "execution_count": 4,
   "metadata": {},
   "outputs": [],
   "source": [
    "#extraemos la columna AF, partidos faltas visitante\n",
    "partidos_fuera=df[['AwayTeam','AF']]\n",
    "partidos_fuera.columns=partidos_casa.columns"
   ]
  },
  {
   "cell_type": "code",
   "execution_count": 5,
   "metadata": {},
   "outputs": [
    {
     "data": {
      "text/html": [
       "<div>\n",
       "<style scoped>\n",
       "    .dataframe tbody tr th:only-of-type {\n",
       "        vertical-align: middle;\n",
       "    }\n",
       "\n",
       "    .dataframe tbody tr th {\n",
       "        vertical-align: top;\n",
       "    }\n",
       "\n",
       "    .dataframe thead th {\n",
       "        text-align: right;\n",
       "    }\n",
       "</style>\n",
       "<table border=\"1\" class=\"dataframe\">\n",
       "  <thead>\n",
       "    <tr style=\"text-align: right;\">\n",
       "      <th></th>\n",
       "      <th>Equipo</th>\n",
       "      <th>Falta</th>\n",
       "    </tr>\n",
       "  </thead>\n",
       "  <tbody>\n",
       "    <tr>\n",
       "      <td>0</td>\n",
       "      <td>Eibar</td>\n",
       "      <td>17</td>\n",
       "    </tr>\n",
       "    <tr>\n",
       "      <td>1</td>\n",
       "      <td>Granada</td>\n",
       "      <td>8</td>\n",
       "    </tr>\n",
       "    <tr>\n",
       "      <td>2</td>\n",
       "      <td>Cadiz</td>\n",
       "      <td>14</td>\n",
       "    </tr>\n",
       "    <tr>\n",
       "      <td>3</td>\n",
       "      <td>Alaves</td>\n",
       "      <td>19</td>\n",
       "    </tr>\n",
       "    <tr>\n",
       "      <td>4</td>\n",
       "      <td>Valladolid</td>\n",
       "      <td>15</td>\n",
       "    </tr>\n",
       "  </tbody>\n",
       "</table>\n",
       "</div>"
      ],
      "text/plain": [
       "       Equipo  Falta\n",
       "0       Eibar     17\n",
       "1     Granada      8\n",
       "2       Cadiz     14\n",
       "3      Alaves     19\n",
       "4  Valladolid     15"
      ]
     },
     "execution_count": 5,
     "metadata": {},
     "output_type": "execute_result"
    }
   ],
   "source": [
    "#Concatenamos los partidos de casa y de fuera para tener las faltas que cada equipo comete\n",
    "faltas=pd.concat([partidos_casa,partidos_fuera],axis=0)\n",
    "faltas.head()"
   ]
  },
  {
   "cell_type": "code",
   "execution_count": 6,
   "metadata": {},
   "outputs": [
    {
     "name": "stdout",
     "output_type": "stream",
     "text": [
      "media 16.74\n",
      "n muestra 31\n"
     ]
    }
   ],
   "source": [
    "#Nuestra muestra serían las faltas cometidas por el Getafe\n",
    "sample=faltas.loc[faltas.Equipo=='Getafe',:]\n",
    "media=sample.Falta.mean()\n",
    "print('media',np.round(media,2))\n",
    "print('n muestra',len(sample.Falta))"
   ]
  },
  {
   "cell_type": "code",
   "execution_count": 7,
   "metadata": {},
   "outputs": [
    {
     "data": {
      "text/plain": [
       "(13.36, 4.18)"
      ]
     },
     "execution_count": 7,
     "metadata": {},
     "output_type": "execute_result"
    }
   ],
   "source": [
    "#Calculamos media y desviación estandar de las faltas de la población\n",
    "u=faltas.Falta.mean()\n",
    "desv=faltas.Falta.std()\n",
    "np.round(u,2),np.round(desv,2)"
   ]
  },
  {
   "cell_type": "markdown",
   "metadata": {},
   "source": [
    "**Hipótesis:**\n",
    "\n",
    "Tenemos los siguientes datos:\n",
    "\n",
    "- $\\mu$ = 13.36 (<i>Population Mean</i>)   \n",
    "- $\\sigma$ = 4.18 (<i>Population Standard Deviation</i>)   \n",
    "- $\\bar{x}$ = 16.74 (<i>Sample Mean</i>)   \n",
    "- $n$ = 31 (<i>Sample Size</i>) \n",
    "- $alpha$ = 0.05 (doble cola)\n",
    "\n",
    "\n",
    "Conocemos la media y la desviación de la población y nuestra muestra tiene un comportamiento aproximadamente normal como se muestra en el gráfico Q-Q inferior, además tiene más de 30 elementos, por lo que podemos usar Z-test.\n",
    "\n",
    "La hipótesis es:\n",
    "- $(\\:H_0\\:)\\:$ $=$ 13.36\n",
    "- $(\\:H_1\\:)\\:$ $\\neq$ 13.36  \n",
    " "
   ]
  },
  {
   "cell_type": "code",
   "execution_count": 8,
   "metadata": {
    "scrolled": true
   },
   "outputs": [
    {
     "data": {
      "image/png": "[encoded data removed]",
      "text/plain": [
       "<Figure size 1080x360 with 2 Axes>"
      ]
     },
     "metadata": {
      "needs_background": "light"
     },
     "output_type": "display_data"
    }
   ],
   "source": [
    "#comprobamos el comportamiento normal de la muestra\n",
    "plt.figure(figsize=(15,5))\n",
    "plt.subplot(1,2,1)\n",
    "plt.hist(sample['Falta'])\n",
    "plt.title('Histograma muestra')\n",
    "plt.subplot(1,2,2)\n",
    "st.probplot(sample['Falta'], dist=\"norm\", plot=plt)\n",
    "plt.title(\"Normal Q-Q plot\")\n",
    "plt.show()"
   ]
  },
  {
   "cell_type": "code",
   "execution_count": 9,
   "metadata": {},
   "outputs": [
    {
     "name": "stdout",
     "output_type": "stream",
     "text": [
      "z_value: 4.5\n"
     ]
    }
   ],
   "source": [
    "#Standard error y estadístico z_value\n",
    "alpha=0.05\n",
    "SE=desv/np.sqrt(len(sample))\n",
    "z_value=(media-u)/SE\n",
    "print('z_value:',np.round(z_value,2))"
   ]
  },
  {
   "cell_type": "code",
   "execution_count": 10,
   "metadata": {},
   "outputs": [
    {
     "name": "stdout",
     "output_type": "stream",
     "text": [
      "Z: 1.96\n"
     ]
    }
   ],
   "source": [
    "#Para alpha=0.05 (0.025 doble cola) tenemos Z\n",
    "Z=st.norm.ppf(1-alpha/2) #doble cola\n",
    "print('Z:',np.round(Z,2))"
   ]
  },
  {
   "cell_type": "markdown",
   "metadata": {},
   "source": [
    "Rechazamos H0 si p-value<0.025. Es lo mismo que si tenemos z_value>Z"
   ]
  },
  {
   "cell_type": "code",
   "execution_count": 11,
   "metadata": {},
   "outputs": [
    {
     "name": "stdout",
     "output_type": "stream",
     "text": [
      "Rechazamos H0 y aceptamos H1\n"
     ]
    }
   ],
   "source": [
    "if z_value>Z:\n",
    "    print('Rechazamos H0 y aceptamos H1')\n",
    "else:\n",
    "    print('Aceptamos HO y rechazamos H1')"
   ]
  },
  {
   "cell_type": "markdown",
   "metadata": {},
   "source": [
    "Haciéndolo por p_value comprobamos que obtenemos lo mismo:"
   ]
  },
  {
   "cell_type": "code",
   "execution_count": 12,
   "metadata": {},
   "outputs": [
    {
     "name": "stdout",
     "output_type": "stream",
     "text": [
      "p-value: 3.374010935851632e-06\n"
     ]
    }
   ],
   "source": [
    "#p-value\n",
    "p_value = st.norm.sf(abs(z_value))\n",
    "print('p-value:',p_value)"
   ]
  },
  {
   "cell_type": "code",
   "execution_count": 13,
   "metadata": {},
   "outputs": [
    {
     "name": "stdout",
     "output_type": "stream",
     "text": [
      "Rechazamos H0 y aceptamos H1\n"
     ]
    }
   ],
   "source": [
    "if p_value<(alpha/2):\n",
    "    print('Rechazamos H0 y aceptamos H1')\n",
    "else:\n",
    "    print('Aceptamos HO y rechazamos H1')"
   ]
  },
  {
   "cell_type": "markdown",
   "metadata": {},
   "source": [
    "Podemos confirmar que estadísticamente el **Getafe tiene un comportamiento distinto a la media de equipos de la Liga respecto a las faltas realizadas**."
   ]
  },
  {
   "cell_type": "markdown",
   "metadata": {},
   "source": [
    "# Nivell 2\n",
    "#### Exercici 2\n",
    "\n",
    "Continua amb el conjunt de dades de tema esportiu que t'agradi i selecciona dos atributs del conjunt de dades. Calcula el p-valor i digues si rebutja la hipòtesi nul·la agafant un alfa de 5%."
   ]
  },
  {
   "cell_type": "markdown",
   "metadata": {},
   "source": [
    "**Propuesta:**\n",
    "\n",
    "Desde la pandemia se dice que la falta de público en los campos de fútbol ha hecho que el factor campo no tenga importancia en el resultado final y que los equipos visitantes juegan como si fueran locales. Vamos a mirar si los goles que marca el equipo local y el equipo visitante son de media similares o si son estadísticamente distintos."
   ]
  },
  {
   "cell_type": "code",
   "execution_count": 14,
   "metadata": {},
   "outputs": [],
   "source": [
    "goles_casa=df.FTHG\n",
    "goles_visitante=df.FTAG"
   ]
  },
  {
   "cell_type": "code",
   "execution_count": 15,
   "metadata": {},
   "outputs": [
    {
     "data": {
      "image/png": "[encoded data removed]",
      "text/plain": [
       "<Figure size 1080x360 with 2 Axes>"
      ]
     },
     "metadata": {
      "needs_background": "light"
     },
     "output_type": "display_data"
    }
   ],
   "source": [
    "#comprobamos el comportamiento normal de la muestra\n",
    "plt.figure(figsize=(15,5))\n",
    "plt.subplot(1,2,1)\n",
    "plt.hist(goles_casa)\n",
    "plt.title('Histograma muestra')\n",
    "plt.subplot(1,2,2)\n",
    "st.probplot(goles_casa, dist=\"norm\", plot=plt)\n",
    "plt.title(\"Normal Q-Q plot\")\n",
    "plt.suptitle('Goles casa')\n",
    "plt.show()"
   ]
  },
  {
   "cell_type": "code",
   "execution_count": 16,
   "metadata": {},
   "outputs": [
    {
     "data": {
      "image/png": "[encoded data removed]",
      "text/plain": [
       "<Figure size 1080x360 with 2 Axes>"
      ]
     },
     "metadata": {
      "needs_background": "light"
     },
     "output_type": "display_data"
    }
   ],
   "source": [
    "#comprobamos el comportamiento normal de la muestra\n",
    "plt.figure(figsize=(15,5))\n",
    "plt.subplot(1,2,1)\n",
    "plt.hist(goles_visitante)\n",
    "plt.title('Histograma muestra')\n",
    "plt.subplot(1,2,2)\n",
    "st.probplot(goles_visitante, dist=\"norm\", plot=plt)\n",
    "plt.title(\"Normal Q-Q plot\")\n",
    "plt.suptitle('Goles Visitante')\n",
    "plt.show()"
   ]
  },
  {
   "cell_type": "markdown",
   "metadata": {},
   "source": [
    "Vemos que siguen una distribución normal aunque con algunos outliers"
   ]
  },
  {
   "cell_type": "code",
   "execution_count": 17,
   "metadata": {},
   "outputs": [
    {
     "data": {
      "text/plain": [
       "(1.34, 1.14)"
      ]
     },
     "execution_count": 17,
     "metadata": {},
     "output_type": "execute_result"
    }
   ],
   "source": [
    "#x1 y x2 muestrales\n",
    "x1,x2=goles_casa.mean(),goles_visitante.mean()\n",
    "np.round(x1,2),np.round(x2,2)"
   ]
  },
  {
   "cell_type": "code",
   "execution_count": 18,
   "metadata": {},
   "outputs": [
    {
     "data": {
      "text/plain": [
       "(1.18, 1.07)"
      ]
     },
     "execution_count": 18,
     "metadata": {},
     "output_type": "execute_result"
    }
   ],
   "source": [
    "#s1 y s2 muestrales\n",
    "s1,s2=goles_casa.std(), goles_visitante.std()\n",
    "np.round(s1,2),np.round(s2,2)"
   ]
  },
  {
   "cell_type": "code",
   "execution_count": 19,
   "metadata": {},
   "outputs": [
    {
     "data": {
      "text/plain": [
       "(308, 308)"
      ]
     },
     "execution_count": 19,
     "metadata": {},
     "output_type": "execute_result"
    }
   ],
   "source": [
    "#n1 y n2\n",
    "n1,n2=len(goles_casa),len(goles_visitante)\n",
    "n1,n2"
   ]
  },
  {
   "cell_type": "markdown",
   "metadata": {},
   "source": [
    "Probamos si son muestras independientes con el test Chi-Cuadrado"
   ]
  },
  {
   "cell_type": "code",
   "execution_count": 20,
   "metadata": {},
   "outputs": [
    {
     "name": "stdout",
     "output_type": "stream",
     "text": [
      "stat=25.275, p=0.909\n",
      "Probably independent\n"
     ]
    }
   ],
   "source": [
    "from scipy.stats import chi2_contingency\n",
    "\n",
    "table = pd.crosstab(goles_casa,goles_visitante)\n",
    "stat, p, dof, expected = chi2_contingency(table)\n",
    "print('stat=%.3f, p=%.3f' % (stat, p))\n",
    "if p > 0.05:\n",
    "    print('Probably independent')\n",
    "else:\n",
    "    print('Probably dependent')"
   ]
  },
  {
   "cell_type": "markdown",
   "metadata": {},
   "source": [
    "**Hipótesis:**\n",
    "\n",
    "Tenemos los siguientes datos:\n",
    "  \n",
    "- Muestras independientes\n",
    "- $\\bar{x}$<sub>1</sub> = 1.34 (<i>Sample Mean goles casa</i>) \n",
    "- $\\bar{x}$<sub>2</sub> = 1.14 (<i>Sample Mean goles visitante</i>) \n",
    "- s<sub>1</sub> = 1.18\n",
    "- s<sub>2</sub> = 1.07\n",
    "- $n$<sub>1</sub> = 308 (<i>Sample Size</i>) \n",
    "- $n$<sub>2</sub> = 308 (<i>Sample Size</i>)\n",
    "- $alpha$ = 0.05 (doble cola)\n",
    "\n",
    "\n",
    "Desconocemos las desviaciones poblaciones aunque sí tenemos las muestrales, podemos usar t student pero como las muestras son tan grandes >>30 podemos aproximar por Z-test.\n",
    "\n",
    "La hipótesis es:\n",
    "- $(\\:H_0\\:)\\:$ $:$ $\\mu$<sub>1</sub>-$\\mu$<sub>2</sub>=0\n",
    "- $(\\:H_1\\:)\\:$ $:$ $\\mu$<sub>1</sub>-$\\mu$<sub>2</sub> $\\neq$ 0  \n",
    " "
   ]
  },
  {
   "cell_type": "code",
   "execution_count": 21,
   "metadata": {},
   "outputs": [
    {
     "name": "stdout",
     "output_type": "stream",
     "text": [
      "z_value: 2.22\n"
     ]
    }
   ],
   "source": [
    "#Standard error y estadístico z_value\n",
    "alpha=0.05\n",
    "SE=np.sqrt(s1**2/n1 + s2**2/n2)\n",
    "z_value=(x1-x2-0)/SE\n",
    "print('z_value:',np.round(z_value,2))"
   ]
  },
  {
   "cell_type": "code",
   "execution_count": 22,
   "metadata": {},
   "outputs": [
    {
     "name": "stdout",
     "output_type": "stream",
     "text": [
      "Z: 1.96\n"
     ]
    }
   ],
   "source": [
    "#Para alpha=0.05 (0.025 doble cola) tenemos Z\n",
    "Z=st.norm.ppf(1-alpha/2) #doble cola\n",
    "print('Z:',np.round(Z,2))"
   ]
  },
  {
   "cell_type": "code",
   "execution_count": 23,
   "metadata": {},
   "outputs": [
    {
     "name": "stdout",
     "output_type": "stream",
     "text": [
      "Rechazamos H0 y aceptamos H1\n"
     ]
    }
   ],
   "source": [
    "if z_value>Z:\n",
    "    print('Rechazamos H0 y aceptamos H1')\n",
    "else:\n",
    "    print('Aceptamos HO y rechazamos H1')"
   ]
  },
  {
   "cell_type": "code",
   "execution_count": 24,
   "metadata": {},
   "outputs": [
    {
     "name": "stdout",
     "output_type": "stream",
     "text": [
      "p-value: 0.013343579600912163\n"
     ]
    }
   ],
   "source": [
    "#p-value\n",
    "p_value = st.norm.sf(abs(z_value))\n",
    "print('p-value:',p_value)"
   ]
  },
  {
   "cell_type": "code",
   "execution_count": 25,
   "metadata": {},
   "outputs": [
    {
     "name": "stdout",
     "output_type": "stream",
     "text": [
      "Rechazamos H0 y aceptamos H1\n"
     ]
    }
   ],
   "source": [
    "if p_value<(alpha/2):\n",
    "    print('Rechazamos H0 y aceptamos H1')\n",
    "else:\n",
    "    print('Aceptamos HO y rechazamos H1')"
   ]
  },
  {
   "cell_type": "markdown",
   "metadata": {},
   "source": [
    "Estadísticamente no tienen la misma media por lo que podemos confirmar que **el factor campo aún afecta al comportamiento de los equipos durante la pandemia y los equipos marcan más goles en casa que fuera.**"
   ]
  },
  {
   "cell_type": "markdown",
   "metadata": {},
   "source": [
    "# Nivell 3\n",
    "#### Exercici 3\n",
    "Continua amb el conjunt de dades de tema esportiu que t'agradi i selecciona tres atributs del conjunt de dades. Calcula el p-valor i digues si rebutja la hipòtesi nul·la agafant un alfa de 5%."
   ]
  },
  {
   "cell_type": "markdown",
   "metadata": {},
   "source": [
    "**Propuesta:**\n",
    "\n",
    "Vamos a comparar los tres primeros clasificados de la Liga (Barça, Madrid y Atlético) según el número de tarjetas amarillas que reciben en cada partido para comprobar si tienen un comportamiento estadístico similar o no"
   ]
  },
  {
   "cell_type": "code",
   "execution_count": 26,
   "metadata": {},
   "outputs": [],
   "source": [
    "#extraemos la columna HY, tarjetas amarillas casa\n",
    "partidos_casa=df[['HomeTeam','HY']]\n",
    "partidos_casa.columns=['Equipo','T_Amarilla']"
   ]
  },
  {
   "cell_type": "code",
   "execution_count": 27,
   "metadata": {},
   "outputs": [],
   "source": [
    "#extraemos la columna AY, tarjetas amarillas visitante\n",
    "partidos_fuera=df[['AwayTeam','AY']]\n",
    "partidos_fuera.columns=partidos_casa.columns"
   ]
  },
  {
   "cell_type": "code",
   "execution_count": 28,
   "metadata": {},
   "outputs": [
    {
     "data": {
      "text/html": [
       "<div>\n",
       "<style scoped>\n",
       "    .dataframe tbody tr th:only-of-type {\n",
       "        vertical-align: middle;\n",
       "    }\n",
       "\n",
       "    .dataframe tbody tr th {\n",
       "        vertical-align: top;\n",
       "    }\n",
       "\n",
       "    .dataframe thead th {\n",
       "        text-align: right;\n",
       "    }\n",
       "</style>\n",
       "<table border=\"1\" class=\"dataframe\">\n",
       "  <thead>\n",
       "    <tr style=\"text-align: right;\">\n",
       "      <th></th>\n",
       "      <th>Equipo</th>\n",
       "      <th>T_Amarilla</th>\n",
       "    </tr>\n",
       "  </thead>\n",
       "  <tbody>\n",
       "    <tr>\n",
       "      <td>0</td>\n",
       "      <td>Eibar</td>\n",
       "      <td>4</td>\n",
       "    </tr>\n",
       "    <tr>\n",
       "      <td>1</td>\n",
       "      <td>Granada</td>\n",
       "      <td>3</td>\n",
       "    </tr>\n",
       "    <tr>\n",
       "      <td>2</td>\n",
       "      <td>Cadiz</td>\n",
       "      <td>2</td>\n",
       "    </tr>\n",
       "    <tr>\n",
       "      <td>3</td>\n",
       "      <td>Alaves</td>\n",
       "      <td>3</td>\n",
       "    </tr>\n",
       "    <tr>\n",
       "      <td>4</td>\n",
       "      <td>Valladolid</td>\n",
       "      <td>4</td>\n",
       "    </tr>\n",
       "  </tbody>\n",
       "</table>\n",
       "</div>"
      ],
      "text/plain": [
       "       Equipo  T_Amarilla\n",
       "0       Eibar           4\n",
       "1     Granada           3\n",
       "2       Cadiz           2\n",
       "3      Alaves           3\n",
       "4  Valladolid           4"
      ]
     },
     "execution_count": 28,
     "metadata": {},
     "output_type": "execute_result"
    }
   ],
   "source": [
    "#Concatenamos los partidos\n",
    "tarjetas=pd.concat([partidos_casa,partidos_fuera],axis=0)\n",
    "tarjetas.head()"
   ]
  },
  {
   "cell_type": "code",
   "execution_count": 29,
   "metadata": {},
   "outputs": [],
   "source": [
    "#Seleccionamos muestras Barça, Madrid y Atlético\n",
    "sampleBarça=tarjetas.loc[tarjetas['Equipo']=='Barcelona','T_Amarilla']\n",
    "sampleRMadrid=tarjetas.loc[tarjetas['Equipo']=='Real Madrid','T_Amarilla']\n",
    "sampleAtletico=tarjetas.loc[tarjetas['Equipo']=='Ath Madrid','T_Amarilla']"
   ]
  },
  {
   "cell_type": "code",
   "execution_count": 30,
   "metadata": {},
   "outputs": [
    {
     "data": {
      "text/plain": [
       "(30, 31, 31)"
      ]
     },
     "execution_count": 30,
     "metadata": {},
     "output_type": "execute_result"
    }
   ],
   "source": [
    "#n de cada muestra\n",
    "n1,n2,n3=len(sampleBarça),len(sampleRMadrid),len(sampleAtletico)\n",
    "n1,n2,n3"
   ]
  },
  {
   "cell_type": "code",
   "execution_count": 31,
   "metadata": {},
   "outputs": [
    {
     "data": {
      "text/plain": [
       "(1.83, 1.61, 2.61)"
      ]
     },
     "execution_count": 31,
     "metadata": {},
     "output_type": "execute_result"
    }
   ],
   "source": [
    "#medias muestrales\n",
    "x1,x2,x3=sampleBarça.mean(),sampleRMadrid.mean(),sampleAtletico.mean()\n",
    "np.round(x1,2),np.round(x2,2),np.round(x3,2)"
   ]
  },
  {
   "cell_type": "code",
   "execution_count": 32,
   "metadata": {},
   "outputs": [
    {
     "data": {
      "text/plain": [
       "(1.42, 1.2, 1.48)"
      ]
     },
     "execution_count": 32,
     "metadata": {},
     "output_type": "execute_result"
    }
   ],
   "source": [
    "# Aunque hay ciertas diferencias vamos a considerar que las tres desviaciones son iguales\n",
    "s1,s2,s3=sampleBarça.std(),sampleRMadrid.std(),sampleAtletico.std()\n",
    "np.round(s1,2),np.round(s2,2),np.round(s3,2)"
   ]
  },
  {
   "cell_type": "markdown",
   "metadata": {},
   "source": [
    "**Hipótesis:**\n",
    "\n",
    "Tenemos los siguientes datos:\n",
    "  \n",
    "- Muestras independientes\n",
    "- Misma desviación en las muestras\n",
    "- $\\bar{x}$<sub>1</sub> = 1.83 (<i>Sample Mean Barça</i>) \n",
    "- $\\bar{x}$<sub>2</sub> = 1.61 (<i>Sample Mean R. Madrid</i>) \n",
    "- $\\bar{x}$<sub>3</sub> = 2.61 (<i>Sample Mean Atlético</i>) \n",
    "- $n$<sub>1</sub> = 30 (<i>Sample Size</i>) \n",
    "- $n$<sub>2</sub> = 31 (<i>Sample Size</i>)\n",
    "- $n$<sub>3</sub> = 30 (<i>Sample Size</i>)\n",
    "- $alpha$ = 0.05 (doble cola)\n",
    "\n",
    "\n",
    "Vamos a usar **ANOVA** para comparar las medias de los tres equipos\n",
    "\n",
    "La hipótesis es:\n",
    "- $(\\:H_0\\:)\\:$ $:$ $\\mu$<sub>1</sub>=$\\mu$<sub>2</sub>=$\\mu$<sub>3</sub>\n",
    "- $(\\:H_1\\:)\\:$ $:$ Al menos un par de muestras es significativamente diferente\n",
    " "
   ]
  },
  {
   "cell_type": "code",
   "execution_count": 33,
   "metadata": {},
   "outputs": [
    {
     "name": "stdout",
     "output_type": "stream",
     "text": [
      "stat=4.555, p=0.013\n",
      "Probably different distributions\n"
     ]
    }
   ],
   "source": [
    "#Podemos calcular el ANOVA directamene con f_oneway\n",
    "from scipy.stats import f_oneway\n",
    "stat, p = f_oneway(sampleBarça, sampleAtletico,sampleRMadrid)\n",
    "print('stat=%.3f, p=%.3f' % (stat, p))\n",
    "if p > 0.025:\n",
    "    print('Probably the same distribution')\n",
    "else:\n",
    "    print('Probably different distributions')"
   ]
  },
  {
   "cell_type": "markdown",
   "metadata": {},
   "source": [
    "Vemos que **p-value<alpha/2** por lo que rechazamos H0 y al menos uno de los equipos es siginificativamente\n",
    "distinto al resto respecto al número de tarjetas amarillas.\n",
    "Mirando las medias de los tres equipos vemos que la del Atlético tiene una media más alejada de los otros dos, y es \n",
    "el equipo que tiene un comportamiento distinto en este aspecto."
   ]
  },
  {
   "cell_type": "markdown",
   "metadata": {},
   "source": [
    "**Vamos a calcular F Snedecor para ver de donde vienen estos datos**"
   ]
  },
  {
   "cell_type": "code",
   "execution_count": 34,
   "metadata": {},
   "outputs": [],
   "source": [
    "n=[n1,n2,n3]\n",
    "means=[x1,x2,x3]\n",
    "samples=[sampleBarça,sampleRMadrid,sampleAtletico]"
   ]
  },
  {
   "cell_type": "code",
   "execution_count": 35,
   "metadata": {},
   "outputs": [
    {
     "data": {
      "text/plain": [
       "2.02"
      ]
     },
     "execution_count": 35,
     "metadata": {},
     "output_type": "execute_result"
    }
   ],
   "source": [
    "#xg es media total. Si las longitudes de las muestras son distintas hay que ponderar las medias de cada una.\n",
    "xg=sum([x*y for x,y in zip(n,means)])/sum(n)\n",
    "np.round(xg,2)"
   ]
  },
  {
   "cell_type": "code",
   "execution_count": 36,
   "metadata": {},
   "outputs": [
    {
     "data": {
      "text/plain": [
       "17.08"
      ]
     },
     "execution_count": 36,
     "metadata": {},
     "output_type": "execute_result"
    }
   ],
   "source": [
    "#varianza explicada\n",
    "SSB=sum([x*(y-xg)**2 for x,y in zip(n,means)])\n",
    "np.round(SSB,2)"
   ]
  },
  {
   "cell_type": "code",
   "execution_count": 37,
   "metadata": {},
   "outputs": [
    {
     "data": {
      "text/plain": [
       "166.88"
      ]
     },
     "execution_count": 37,
     "metadata": {},
     "output_type": "execute_result"
    }
   ],
   "source": [
    "#varianza no explicada\n",
    "SSW=sum([sum((x-y)**2) for x,y in zip(samples,means)])\n",
    "np.round(SSW,2)"
   ]
  },
  {
   "cell_type": "code",
   "execution_count": 38,
   "metadata": {},
   "outputs": [
    {
     "data": {
      "text/plain": [
       "(2, 89, 91)"
      ]
     },
     "execution_count": 38,
     "metadata": {},
     "output_type": "execute_result"
    }
   ],
   "source": [
    "#Grados de libertad\n",
    "df1=len(n)-1\n",
    "df2=sum(n)-len(n)\n",
    "dftotal=df1+df2\n",
    "df1,df2,dftotal"
   ]
  },
  {
   "cell_type": "code",
   "execution_count": 39,
   "metadata": {},
   "outputs": [
    {
     "data": {
      "text/plain": [
       "4.55"
      ]
     },
     "execution_count": 39,
     "metadata": {},
     "output_type": "execute_result"
    }
   ],
   "source": [
    "#F Snedecor\n",
    "F=(SSB/df1)/(SSW/df2)\n",
    "np.round(F,2)"
   ]
  },
  {
   "cell_type": "code",
   "execution_count": 40,
   "metadata": {},
   "outputs": [
    {
     "data": {
      "text/plain": [
       "0.013"
      ]
     },
     "execution_count": 40,
     "metadata": {},
     "output_type": "execute_result"
    }
   ],
   "source": [
    "#p_value\n",
    "p_value = 1-st.f.cdf(F, df1, df2)\n",
    "np.round(p_value,3)"
   ]
  },
  {
   "cell_type": "markdown",
   "metadata": {},
   "source": [
    "Vemos que los valores obtenidos coinciden con el F y p_value calculados con f_oneway de la librería de scipy.stats"
   ]
  },
  {
   "cell_type": "markdown",
   "metadata": {},
   "source": [
    "Aunque a simple vista no lo parezca **ANOVA y la regresión lineal son el mismo algoritmo** aplicado para fines diferentes. Me ha parecido muy interesante el uso de la regresión lineal para calcular el p-value de ANOVA usado en el notebook **\"06.Foundation for inference II\"** demostrando lo comentado anteriormente.\n",
    "\n",
    "Vamos a aplicarlo en nuestro dataset"
   ]
  },
  {
   "cell_type": "code",
   "execution_count": 41,
   "metadata": {},
   "outputs": [
    {
     "data": {
      "text/plain": [
       "array(['Ath Madrid', 'Barcelona', 'Real Madrid'], dtype=object)"
      ]
     },
     "execution_count": 41,
     "metadata": {},
     "output_type": "execute_result"
    }
   ],
   "source": [
    "#Creamos un dataframe donde la columna Equipos es una variable categórica para cada una de las muestras\n",
    "tarjetas2=tarjetas.loc[(tarjetas.Equipo=='Barcelona')|(tarjetas.Equipo=='Real Madrid')|(tarjetas.Equipo=='Ath Madrid'),:]\n",
    "tarjetas2.Equipo.unique()"
   ]
  },
  {
   "cell_type": "code",
   "execution_count": 42,
   "metadata": {},
   "outputs": [
    {
     "data": {
      "text/html": [
       "<table class=\"simpletable\">\n",
       "<caption>OLS Regression Results</caption>\n",
       "<tr>\n",
       "  <th>Dep. Variable:</th>       <td>T_Amarilla</td>    <th>  R-squared:         </th> <td>   0.093</td>\n",
       "</tr>\n",
       "<tr>\n",
       "  <th>Model:</th>                   <td>OLS</td>       <th>  Adj. R-squared:    </th> <td>   0.072</td>\n",
       "</tr>\n",
       "<tr>\n",
       "  <th>Method:</th>             <td>Least Squares</td>  <th>  F-statistic:       </th> <td>   4.555</td>\n",
       "</tr>\n",
       "<tr>\n",
       "  <th>Date:</th>             <td>Mon, 10 May 2021</td> <th>  Prob (F-statistic):</th>  <td>0.0131</td> \n",
       "</tr>\n",
       "<tr>\n",
       "  <th>Time:</th>                 <td>12:26:36</td>     <th>  Log-Likelihood:    </th> <td> -157.93</td>\n",
       "</tr>\n",
       "<tr>\n",
       "  <th>No. Observations:</th>      <td>    92</td>      <th>  AIC:               </th> <td>   321.9</td>\n",
       "</tr>\n",
       "<tr>\n",
       "  <th>Df Residuals:</th>          <td>    89</td>      <th>  BIC:               </th> <td>   329.4</td>\n",
       "</tr>\n",
       "<tr>\n",
       "  <th>Df Model:</th>              <td>     2</td>      <th>                     </th>     <td> </td>   \n",
       "</tr>\n",
       "<tr>\n",
       "  <th>Covariance Type:</th>      <td>nonrobust</td>    <th>                     </th>     <td> </td>   \n",
       "</tr>\n",
       "</table>\n",
       "<table class=\"simpletable\">\n",
       "<tr>\n",
       "              <td></td>                <th>coef</th>     <th>std err</th>      <th>t</th>      <th>P>|t|</th>  <th>[0.025</th>    <th>0.975]</th>  \n",
       "</tr>\n",
       "<tr>\n",
       "  <th>Intercept</th>                <td>    2.6129</td> <td>    0.246</td> <td>   10.624</td> <td> 0.000</td> <td>    2.124</td> <td>    3.102</td>\n",
       "</tr>\n",
       "<tr>\n",
       "  <th>C(Equipo)[T.Barcelona]</th>   <td>   -0.7796</td> <td>    0.351</td> <td>   -2.223</td> <td> 0.029</td> <td>   -1.476</td> <td>   -0.083</td>\n",
       "</tr>\n",
       "<tr>\n",
       "  <th>C(Equipo)[T.Real Madrid]</th> <td>   -1.0000</td> <td>    0.348</td> <td>   -2.875</td> <td> 0.005</td> <td>   -1.691</td> <td>   -0.309</td>\n",
       "</tr>\n",
       "</table>\n",
       "<table class=\"simpletable\">\n",
       "<tr>\n",
       "  <th>Omnibus:</th>       <td> 2.973</td> <th>  Durbin-Watson:     </th> <td>   2.225</td>\n",
       "</tr>\n",
       "<tr>\n",
       "  <th>Prob(Omnibus):</th> <td> 0.226</td> <th>  Jarque-Bera (JB):  </th> <td>   1.992</td>\n",
       "</tr>\n",
       "<tr>\n",
       "  <th>Skew:</th>          <td> 0.152</td> <th>  Prob(JB):          </th> <td>   0.369</td>\n",
       "</tr>\n",
       "<tr>\n",
       "  <th>Kurtosis:</th>      <td> 2.346</td> <th>  Cond. No.          </th> <td>    3.71</td>\n",
       "</tr>\n",
       "</table><br/><br/>Warnings:<br/>[1] Standard Errors assume that the covariance matrix of the errors is correctly specified."
      ],
      "text/plain": [
       "<class 'statsmodels.iolib.summary.Summary'>\n",
       "\"\"\"\n",
       "                            OLS Regression Results                            \n",
       "==============================================================================\n",
       "Dep. Variable:             T_Amarilla   R-squared:                       0.093\n",
       "Model:                            OLS   Adj. R-squared:                  0.072\n",
       "Method:                 Least Squares   F-statistic:                     4.555\n",
       "Date:                Mon, 10 May 2021   Prob (F-statistic):             0.0131\n",
       "Time:                        12:26:36   Log-Likelihood:                -157.93\n",
       "No. Observations:                  92   AIC:                             321.9\n",
       "Df Residuals:                      89   BIC:                             329.4\n",
       "Df Model:                           2                                         \n",
       "Covariance Type:            nonrobust                                         \n",
       "============================================================================================\n",
       "                               coef    std err          t      P>|t|      [0.025      0.975]\n",
       "--------------------------------------------------------------------------------------------\n",
       "Intercept                    2.6129      0.246     10.624      0.000       2.124       3.102\n",
       "C(Equipo)[T.Barcelona]      -0.7796      0.351     -2.223      0.029      -1.476      -0.083\n",
       "C(Equipo)[T.Real Madrid]    -1.0000      0.348     -2.875      0.005      -1.691      -0.309\n",
       "==============================================================================\n",
       "Omnibus:                        2.973   Durbin-Watson:                   2.225\n",
       "Prob(Omnibus):                  0.226   Jarque-Bera (JB):                1.992\n",
       "Skew:                           0.152   Prob(JB):                        0.369\n",
       "Kurtosis:                       2.346   Cond. No.                         3.71\n",
       "==============================================================================\n",
       "\n",
       "Warnings:\n",
       "[1] Standard Errors assume that the covariance matrix of the errors is correctly specified.\n",
       "\"\"\""
      ]
     },
     "execution_count": 42,
     "metadata": {},
     "output_type": "execute_result"
    }
   ],
   "source": [
    "from statsmodels.formula.api import ols\n",
    "# importamos ols para hacer la regresión lineal y le decimos que \n",
    "# T_amarilla, donde están nuestros valores de la muestra, sea la variable explicada\n",
    "# y los predictores sean (Barcelona, R. Madrid y Atlético) de la variable categórica Equipo\n",
    "results = ols('T_Amarilla ~ C(Equipo)', data=tarjetas2).fit()\n",
    "results.summary()"
   ]
  },
  {
   "cell_type": "markdown",
   "metadata": {},
   "source": [
    "Vemos que obtenemos el mismo estadístico F=4.555 y el p-value=0.013, también los mismos grados de libertad"
   ]
  },
  {
   "cell_type": "code",
   "execution_count": 43,
   "metadata": {},
   "outputs": [
    {
     "data": {
      "text/plain": [
       "0.093"
      ]
     },
     "execution_count": 43,
     "metadata": {},
     "output_type": "execute_result"
    }
   ],
   "source": [
    "# También podemos encontrar la bondad de ajusted de la regresión a partir de los valores de ANOVA\n",
    "r2=SSB/(SSB+SSW) \n",
    "np.round(r2,3)"
   ]
  },
  {
   "cell_type": "code",
   "execution_count": 44,
   "metadata": {},
   "outputs": [
    {
     "data": {
      "text/plain": [
       "0.072"
      ]
     },
     "execution_count": 44,
     "metadata": {},
     "output_type": "execute_result"
    }
   ],
   "source": [
    "# y lo mismo con R^2 ajustada\n",
    "r2_adj=1-((SSW/df2)/((SSB+SSW)/dftotal))\n",
    "np.round(r2_adj,3)"
   ]
  }
 ],
 "metadata": {
  "kernelspec": {
   "display_name": "Python 3",
   "language": "python",
   "name": "python3"
  },
  "language_info": {
   "codemirror_mode": {
    "name": "ipython",
    "version": 3
   },
   "file_extension": ".py",
   "mimetype": "text/x-python",
   "name": "python",
   "nbconvert_exporter": "python",
   "pygments_lexer": "ipython3",
   "version": "3.7.4"
  },
  "latex_envs": {
   "LaTeX_envs_menu_present": true,
   "autoclose": false,
   "autocomplete": true,
   "bibliofile": "biblio.bib",
   "cite_by": "apalike",
   "current_citInitial": 1,
   "eqLabelWithNumbers": true,
   "eqNumInitial": 1,
   "hotkeys": {
    "equation": "Ctrl-E",
    "itemize": "Ctrl-I"
   },
   "labels_anchors": false,
   "latex_user_defs": false,
   "report_style_numbering": false,
   "user_envs_cfg": false
  },
  "varInspector": {
   "cols": {
    "lenName": 16,
    "lenType": 16,
    "lenVar": 40
   },
   "kernels_config": {
    "python": {
     "delete_cmd_postfix": "",
     "delete_cmd_prefix": "del ",
     "library": "var_list.py",
     "varRefreshCmd": "print(var_dic_list())"
    },
    "r": {
     "delete_cmd_postfix": ") ",
     "delete_cmd_prefix": "rm(",
     "library": "var_list.r",
     "varRefreshCmd": "cat(var_dic_list()) "
    }
   },
   "types_to_exclude": [
    "module",
    "function",
    "builtin_function_or_method",
    "instance",
    "_Feature"
   ],
   "window_display": false
  }
 },
 "nbformat": 4,
 "nbformat_minor": 2
}
